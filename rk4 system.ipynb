{
 "cells": [
  {
   "cell_type": "code",
   "execution_count": 9,
   "metadata": {
    "collapsed": true,
    "pycharm": {
     "name": "#%%\n"
    }
   },
   "outputs": [
    {
     "name": "stdout",
     "output_type": "stream",
     "text": [
      "[-891625.73750814] [889992.4822998]\n"
     ]
    },
    {
     "data": {
      "text/plain": "<Figure size 432x288 with 1 Axes>",
      "image/png": "[encoded data removed]"
     },
     "metadata": {
      "needs_background": "light"
     },
     "output_type": "display_data"
    }
   ],
   "source": [
    "# Runge Kutta 4th order to edo system of two equations.\n",
    "\n",
    "\"\"\"\n",
    "INPUT:  dy/dx = f1(x,y,z)  : differential equation 1\n",
    "        dz/dx = f2(x,y,z)  : differential equation 2\n",
    "        y(x(0)) = y0 : initial condition 1\n",
    "        z(x(0)) = z0 : initial condition 2\n",
    "        xf           : variable final which define range\n",
    "        n            : number of points\n",
    "OUTPUT: Aproximation solution of differential equations system whit its graph\n",
    "\"\"\"\n",
    "\n",
    "import numpy as np\n",
    "import matplotlib.pyplot as plt\n",
    "\n",
    "def solveSystem(x0,y0,z0,xf,n):\n",
    "\n",
    "    h = (xf-x0)/(n-1)\n",
    "    x = np.linspace(x0,xf,n)\n",
    "    y = np.zeros([n,1])\n",
    "    z = np.zeros([n,1])\n",
    "\n",
    "    y[0] = y0\n",
    "    z[0] = z0\n",
    "\n",
    "    for i in range(1,n):\n",
    "        k1 = h*f1(x[i-1],y[i-1],z[i-1])\n",
    "        l1 = h*f2(x[i-1],y[i-1],z[i-1])\n",
    "        k2 = h*f1(x[i-1]+h/2,y[i-1]+k1/2,z[i-1]+l1/2)\n",
    "        l2 = h*f2(x[i-1]+h/2,y[i-1]+k1/2,z[i-1]+l1/2)\n",
    "        k3 = h*f1(x[i-1]+h/2,y[i-1]+k2/2,z[i-1]+l2/2)\n",
    "        l3 = h*f2(x[i-1]+h/2,y[i-1]+k2/2,z[i-1]+l2/2)\n",
    "        k4 = h*f1(x[i-1]+h, y[i-1]+k3,z[i-1]+l3)\n",
    "        l4 = h*f2(x[i-1]+h, y[i-1]+k3,z[i-1]+l3)\n",
    "\n",
    "        y[i] = y[i-1] + (k1 + 2*k2 + 2*k3 + k4)/6\n",
    "        z[i] = z[i-1] + (l1 + 2*l2 + 2*l3 + l4)/6\n",
    "\n",
    "\n",
    "    plt.plot(x,y,label='Y aprox')\n",
    "    plt.plot(x,z,label='Z aprox')\n",
    "    plt.xlabel(\"X values\")\n",
    "    plt.ylabel(\"Y,Z values\")\n",
    "    plt.legend()\n",
    "    plt.title(\"Sytem of First Order Differential Equations\")\n",
    "    plt.show()\n",
    "\n",
    "\n",
    "def f1(x,y,z):\n",
    "    return x**2-y**2+2*y\n",
    "\n",
    "def f2(x,y,z):\n",
    "    return 2*x+y**2-6\n",
    "\n",
    "def main():\n",
    "\n",
    "    x0 = 0.0\n",
    "    y0 = 0.0\n",
    "    z0 = 0.0\n",
    "    xf = 5.0\n",
    "    n  = 2  # 21 points -> 20 spaces between points.\n",
    "    solveSystem(x0,y0,z0,xf,n,)\n",
    "\n",
    "main()\n"
   ]
  },
  {
   "cell_type": "code",
   "execution_count": null,
   "outputs": [],
   "source": [],
   "metadata": {
    "collapsed": false,
    "pycharm": {
     "name": "#%%\n"
    }
   }
  }
 ],
 "metadata": {
  "kernelspec": {
   "display_name": "Python 3",
   "language": "python",
   "name": "python3"
  },
  "language_info": {
   "codemirror_mode": {
    "name": "ipython",
    "version": 2
   },
   "file_extension": ".py",
   "mimetype": "text/x-python",
   "name": "python",
   "nbconvert_exporter": "python",
   "pygments_lexer": "ipython2",
   "version": "2.7.6"
  }
 },
 "nbformat": 4,
 "nbformat_minor": 0
}