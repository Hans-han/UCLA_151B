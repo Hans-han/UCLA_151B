{
 "cells": [
  {
   "cell_type": "code",
   "execution_count": 9,
   "metadata": {
    "collapsed": true,
    "pycharm": {
     "name": "#%%\n"
    }
   },
   "outputs": [
    {
     "name": "stdout",
     "output_type": "stream",
     "text": [
      "     x_i       w_i\n",
      "0   1.00 -0.500000\n",
      "1   1.05 -0.311147\n",
      "2   1.10 -0.156628\n",
      "3   1.15 -0.028817\n",
      "4   1.20  0.077958\n",
      "5   1.25  0.167972\n",
      "6   1.30  0.244487\n",
      "7   1.35  0.310022\n",
      "8   1.40  0.366543\n",
      "9   1.45  0.415599\n",
      "10  1.50  0.458424\n",
      "11  1.55  0.496006\n",
      "12  1.60  0.529145\n",
      "13  1.65  0.558494\n",
      "14  1.70  0.584590\n",
      "15  1.75  0.607873\n",
      "16  1.80  0.628715\n",
      "17  1.85  0.647422\n",
      "18  1.90  0.664255\n",
      "19  1.95  0.679434\n",
      "20  2.00  0.693147\n"
     ]
    }
   ],
   "source": [
    "import numpy as np\n",
    "import pandas as pd\n",
    "\n",
    "def dif(aa,bb,alpha,beta,n):\n",
    "\n",
    "    a = np.zeros([n+2])  # 2 cuz we need w_0 and w_n+1\n",
    "    b = np.zeros([n+2])\n",
    "    c = np.zeros([n+2])\n",
    "    d = np.zeros([n+2])\n",
    "\n",
    "    # n number of x points\n",
    "    h = (bb-aa)/(n+1)\n",
    "    #print(h)\n",
    "    x = aa + h\n",
    "    a[1] = 2.0 + (h**2)*q(x)\n",
    "    b[1] = -1.0 + (h/2)*p(x)\n",
    "    d[1] = -(h**2)*r(x) + (1 + (h/2)*p(x))*alpha\n",
    "\n",
    "    for i in range(2,n):\n",
    "        x = aa + i*h\n",
    "        a[i] = 2.0 + (h**2)*q(x)\n",
    "        b[i] = -1.0 + (h/2)*p(x)\n",
    "        c[i] = -1.0 - (h/2)*p(x)\n",
    "        d[i] = -(h**2)*r(x)\n",
    "\n",
    "    x = bb-h\n",
    "    a[n] = 2.0 + (h**2)*q(x)\n",
    "    c[n] = -1.0 - (h/2)*p(x)\n",
    "    d[n] = -(h**2)*r(x) + (1.0 - (h/2)*p(x))*beta\n",
    "\n",
    "    l = np.zeros([n+2])\n",
    "    u = np.zeros([n+2])\n",
    "    z = np.zeros([n+2])\n",
    "\n",
    "    # Crout algorithm\n",
    "    l[1] = a[1]\n",
    "    u[1] = b[1]/a[1]\n",
    "    z[1] = d[1]/l[1]\n",
    "\n",
    "    for i in range(2,n):\n",
    "        l[i] = a[i]-c[i]*u[i-1]\n",
    "        u[i] = b[i]/l[i]\n",
    "        z[i] = (d[i] - c[i]*z[i-1])/l[i]\n",
    "\n",
    "\n",
    "    l[n] = a[n] - c[n]*u[n-1]\n",
    "    z[n] = (d[n] -c[n]*z[n-1])/l[n]\n",
    "\n",
    "    w = np.zeros([n+2])\n",
    "\n",
    "    w[0] = alpha\n",
    "    w[n+1] = beta\n",
    "    w[n] = z[n]\n",
    "\n",
    "    for i in range(n-1,0,-1):\n",
    "        w[i] = z[i] - u[i]*w[i+1]\n",
    "    return w\n",
    "\n",
    "\n",
    "def p(x):\n",
    "    return -4/x\n",
    "\n",
    "def q(x):\n",
    "    return 2/x**2\n",
    "\n",
    "def r(x):\n",
    "    return (-2/x**2)*np.log(x)\n",
    "\n",
    "def main():\n",
    "    a = 1.0 #left bound\n",
    "    b = 2.0 #right bound\n",
    "    alpha = -0.5 #left outcome\n",
    "    beta = np.log(2) #right outcome\n",
    "    n = 19 #stepsize?\n",
    "\n",
    "    w = dif(a,b,alpha,beta,n)\n",
    "\n",
    "    x = np.linspace(a,b,n+2) # add x_0 and x_n+1\n",
    "    df= df = pd.DataFrame({'x_i' : x, 'w_i' : w})\n",
    "    print(df)\n",
    "\n",
    "main()"
   ]
  },
  {
   "cell_type": "code",
   "execution_count": null,
   "outputs": [],
   "source": [],
   "metadata": {
    "collapsed": false,
    "pycharm": {
     "name": "#%%\n"
    }
   }
  }
 ],
 "metadata": {
  "kernelspec": {
   "display_name": "Python 3",
   "language": "python",
   "name": "python3"
  },
  "language_info": {
   "codemirror_mode": {
    "name": "ipython",
    "version": 2
   },
   "file_extension": ".py",
   "mimetype": "text/x-python",
   "name": "python",
   "nbconvert_exporter": "python",
   "pygments_lexer": "ipython2",
   "version": "2.7.6"
  }
 },
 "nbformat": 4,
 "nbformat_minor": 0
}