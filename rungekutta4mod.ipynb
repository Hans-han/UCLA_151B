{
 "cells": [
  {
   "cell_type": "code",
   "execution_count": 1,
   "outputs": [],
   "source": [
    "import numpy as np\n",
    "import matplotlib.pyplot as plt\n",
    "\n",
    "def solveSystem(f1,f2,x0,y0,z0,xf,n):\n",
    "\n",
    "    h = (xf-x0)/(n-1)\n",
    "    x = np.linspace(x0,xf,n)\n",
    "    y = np.zeros([n,1])\n",
    "    z = np.zeros([n,1])\n",
    "\n",
    "    y[0] = y0\n",
    "    z[0] = z0\n",
    "\n",
    "    for i in range(1,n):\n",
    "        k1 = h*f1(x[i-1],y[i-1],z[i-1])\n",
    "        l1 = h*f2(x[i-1],y[i-1],z[i-1])\n",
    "        k2 = h*f1(x[i-1]+h/2,y[i-1]+k1/2,z[i-1]+l1/2)\n",
    "        l2 = h*f2(x[i-1]+h/2,y[i-1]+k1/2,z[i-1]+l1/2)\n",
    "        k3 = h*f1(x[i-1]+h/2,y[i-1]+k2/2,z[i-1]+l2/2)\n",
    "        l3 = h*f2(x[i-1]+h/2,y[i-1]+k2/2,z[i-1]+l2/2)\n",
    "        k4 = h*f1(x[i-1]+h, y[i-1]+k3,z[i-1]+l3)\n",
    "        l4 = h*f2(x[i-1]+h, y[i-1]+k3,z[i-1]+l3)\n",
    "\n",
    "        y[i] = y[i-1] + (k1 + 2*k2 + 2*k3 + k4)/6\n",
    "        z[i] = z[i-1] + (l1 + 2*l2 + 2*l3 + l4)/6\n",
    "\n",
    "    return np.row_stack((np.transpose(y),np.transpose(z)))"
   ],
   "metadata": {
    "collapsed": false,
    "pycharm": {
     "name": "#%%\n"
    }
   }
  },
  {
   "cell_type": "code",
   "execution_count": null,
   "outputs": [],
   "source": [],
   "metadata": {
    "collapsed": false,
    "pycharm": {
     "name": "#%%\n"
    }
   }
  }
 ],
 "metadata": {
  "kernelspec": {
   "display_name": "Python 3",
   "language": "python",
   "name": "python3"
  },
  "language_info": {
   "codemirror_mode": {
    "name": "ipython",
    "version": 2
   },
   "file_extension": ".py",
   "mimetype": "text/x-python",
   "name": "python",
   "nbconvert_exporter": "python",
   "pygments_lexer": "ipython2",
   "version": "2.7.6"
  }
 },
 "nbformat": 4,
 "nbformat_minor": 0
}