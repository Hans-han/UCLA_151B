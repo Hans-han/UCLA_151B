{
 "cells": [
  {
   "cell_type": "code",
   "execution_count": 3,
   "outputs": [],
   "source": [
    "import numpy as np\n",
    "A = np.array([[4, 2, 1],\n",
    "              [0, 3, 2],\n",
    "              [1, 1, 4]])\n",
    "epsilon = 0.000001"
   ],
   "metadata": {
    "collapsed": false,
    "pycharm": {
     "name": "#%%\n"
    }
   }
  },
  {
   "cell_type": "code",
   "execution_count": 4,
   "outputs": [
    {
     "name": "stdout",
     "output_type": "stream",
     "text": [
      "[1 2 1]\n",
      "Iteration: 1\n",
      "Lambda: 9.0000\n",
      "x: [1.         0.88888889 0.77777778]\n",
      "Iteration: 2\n",
      "Lambda: 6.5556\n",
      "x: [1.         0.6440678  0.76271186]\n",
      "Iteration: 3\n",
      "Lambda: 6.0508\n",
      "x: [1.         0.57142857 0.77591036]\n",
      "Eigenvalue: 6.0508474576271185\n",
      "Eigenvector: [1.         0.57142857 0.77591036]\n",
      "\n"
     ]
    }
   ],
   "source": [
    "def power_method(A,epsilon = 0.00001, pagerank = False):\n",
    "    if pagerank:\n",
    "        x = np.empty((A.shape[0],1))\n",
    "        x.fill(1/A.shape[0])\n",
    "    else:\n",
    "        x = np.transpose([1,2,1])\n",
    "        print(x)\n",
    "    lambdas_list = []\n",
    "    for i in range(1,4):\n",
    "        x_new = A@x\n",
    "        lambda_ = np.linalg.norm(x_new,np.inf)\n",
    "        lambdas_list.append(lambda_)\n",
    "        x_new =  x_new / lambda_\n",
    "        print(\"Iteration: {}\".format(i))\n",
    "        print(\"Lambda: {:.4f}\".format(lambda_))\n",
    "        print(\"x: {}\".format(np.ravel(x_new)))\n",
    "        if np.linalg.norm(x - x_new) < epsilon:\n",
    "            print(\"point reached\")\n",
    "            break\n",
    "        x = x_new\n",
    "    return lambdas_list[-1],x\n",
    "\n",
    "lambdas,x = power_method(A)\n",
    "print(\"Eigenvalue: {}\\nEigenvector: {}\\n\".format(lambdas,np.ravel(x)))"
   ],
   "metadata": {
    "collapsed": false,
    "pycharm": {
     "name": "#%%\n"
    }
   }
  },
  {
   "cell_type": "code",
   "execution_count": null,
   "outputs": [],
   "source": [],
   "metadata": {
    "collapsed": false,
    "pycharm": {
     "name": "#%%\n"
    }
   }
  }
 ],
 "metadata": {
  "kernelspec": {
   "display_name": "Python 3",
   "language": "python",
   "name": "python3"
  },
  "language_info": {
   "codemirror_mode": {
    "name": "ipython",
    "version": 2
   },
   "file_extension": ".py",
   "mimetype": "text/x-python",
   "name": "python",
   "nbconvert_exporter": "python",
   "pygments_lexer": "ipython2",
   "version": "2.7.6"
  }
 },
 "nbformat": 4,
 "nbformat_minor": 0
}